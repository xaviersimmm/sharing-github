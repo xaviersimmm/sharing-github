{
 "cells": [
  {
   "cell_type": "markdown",
   "metadata": {},
   "source": [
    "# Project Goals"
   ]
  },
  {
   "cell_type": "code",
   "execution_count": null,
   "metadata": {},
   "outputs": [],
   "source": []
  },
  {
   "cell_type": "markdown",
   "metadata": {},
   "source": [
    "- Distribution of conservation status for species\n",
    "- Is there an association between the different species and their conservation status?\n",
    "- Animal that is least found and which Parks should we target to preserve them"
   ]
  },
  {
   "cell_type": "markdown",
   "metadata": {},
   "source": [
    "# Import Python Modules"
   ]
  },
  {
   "cell_type": "code",
   "execution_count": 215,
   "metadata": {},
   "outputs": [],
   "source": [
    "import pandas as pd\n",
    "import numpy as np\n",
    "import matplotlib.pyplot as plt\n",
    "import seaborn as sns\n",
    "from scipy.stats import chi2_contingency"
   ]
  },
  {
   "cell_type": "markdown",
   "metadata": {},
   "source": [
    "# Load Data"
   ]
  },
  {
   "cell_type": "code",
   "execution_count": 197,
   "metadata": {},
   "outputs": [
    {
     "data": {
      "text/html": [
       "<div>\n",
       "<style scoped>\n",
       "    .dataframe tbody tr th:only-of-type {\n",
       "        vertical-align: middle;\n",
       "    }\n",
       "\n",
       "    .dataframe tbody tr th {\n",
       "        vertical-align: top;\n",
       "    }\n",
       "\n",
       "    .dataframe thead th {\n",
       "        text-align: right;\n",
       "    }\n",
       "</style>\n",
       "<table border=\"1\" class=\"dataframe\">\n",
       "  <thead>\n",
       "    <tr style=\"text-align: right;\">\n",
       "      <th></th>\n",
       "      <th>category</th>\n",
       "      <th>scientific_name</th>\n",
       "      <th>common_names</th>\n",
       "      <th>conservation_status</th>\n",
       "      <th>park_name</th>\n",
       "      <th>observations</th>\n",
       "    </tr>\n",
       "  </thead>\n",
       "  <tbody>\n",
       "    <tr>\n",
       "      <th>0</th>\n",
       "      <td>Mammal</td>\n",
       "      <td>Clethrionomys gapperi gapperi</td>\n",
       "      <td>Gapper's Red-Backed Vole</td>\n",
       "      <td>NaN</td>\n",
       "      <td>Bryce National Park</td>\n",
       "      <td>130</td>\n",
       "    </tr>\n",
       "    <tr>\n",
       "      <th>1</th>\n",
       "      <td>Mammal</td>\n",
       "      <td>Clethrionomys gapperi gapperi</td>\n",
       "      <td>Gapper's Red-Backed Vole</td>\n",
       "      <td>NaN</td>\n",
       "      <td>Yellowstone National Park</td>\n",
       "      <td>270</td>\n",
       "    </tr>\n",
       "    <tr>\n",
       "      <th>2</th>\n",
       "      <td>Mammal</td>\n",
       "      <td>Clethrionomys gapperi gapperi</td>\n",
       "      <td>Gapper's Red-Backed Vole</td>\n",
       "      <td>NaN</td>\n",
       "      <td>Great Smoky Mountains National Park</td>\n",
       "      <td>98</td>\n",
       "    </tr>\n",
       "    <tr>\n",
       "      <th>3</th>\n",
       "      <td>Mammal</td>\n",
       "      <td>Clethrionomys gapperi gapperi</td>\n",
       "      <td>Gapper's Red-Backed Vole</td>\n",
       "      <td>NaN</td>\n",
       "      <td>Yosemite National Park</td>\n",
       "      <td>117</td>\n",
       "    </tr>\n",
       "    <tr>\n",
       "      <th>4</th>\n",
       "      <td>Mammal</td>\n",
       "      <td>Bos bison</td>\n",
       "      <td>American Bison, Bison</td>\n",
       "      <td>NaN</td>\n",
       "      <td>Yosemite National Park</td>\n",
       "      <td>128</td>\n",
       "    </tr>\n",
       "    <tr>\n",
       "      <th>5</th>\n",
       "      <td>Mammal</td>\n",
       "      <td>Bos bison</td>\n",
       "      <td>American Bison, Bison</td>\n",
       "      <td>NaN</td>\n",
       "      <td>Yellowstone National Park</td>\n",
       "      <td>269</td>\n",
       "    </tr>\n",
       "    <tr>\n",
       "      <th>6</th>\n",
       "      <td>Mammal</td>\n",
       "      <td>Bos bison</td>\n",
       "      <td>American Bison, Bison</td>\n",
       "      <td>NaN</td>\n",
       "      <td>Bryce National Park</td>\n",
       "      <td>68</td>\n",
       "    </tr>\n",
       "    <tr>\n",
       "      <th>7</th>\n",
       "      <td>Mammal</td>\n",
       "      <td>Bos bison</td>\n",
       "      <td>American Bison, Bison</td>\n",
       "      <td>NaN</td>\n",
       "      <td>Great Smoky Mountains National Park</td>\n",
       "      <td>77</td>\n",
       "    </tr>\n",
       "    <tr>\n",
       "      <th>8</th>\n",
       "      <td>Mammal</td>\n",
       "      <td>Bos taurus</td>\n",
       "      <td>Aurochs, Aurochs, Domestic Cattle (Feral), Dom...</td>\n",
       "      <td>NaN</td>\n",
       "      <td>Bryce National Park</td>\n",
       "      <td>99</td>\n",
       "    </tr>\n",
       "    <tr>\n",
       "      <th>9</th>\n",
       "      <td>Mammal</td>\n",
       "      <td>Bos taurus</td>\n",
       "      <td>Aurochs, Aurochs, Domestic Cattle (Feral), Dom...</td>\n",
       "      <td>NaN</td>\n",
       "      <td>Yosemite National Park</td>\n",
       "      <td>124</td>\n",
       "    </tr>\n",
       "  </tbody>\n",
       "</table>\n",
       "</div>"
      ],
      "text/plain": [
       "  category                scientific_name  \\\n",
       "0   Mammal  Clethrionomys gapperi gapperi   \n",
       "1   Mammal  Clethrionomys gapperi gapperi   \n",
       "2   Mammal  Clethrionomys gapperi gapperi   \n",
       "3   Mammal  Clethrionomys gapperi gapperi   \n",
       "4   Mammal                      Bos bison   \n",
       "5   Mammal                      Bos bison   \n",
       "6   Mammal                      Bos bison   \n",
       "7   Mammal                      Bos bison   \n",
       "8   Mammal                     Bos taurus   \n",
       "9   Mammal                     Bos taurus   \n",
       "\n",
       "                                        common_names conservation_status  \\\n",
       "0                           Gapper's Red-Backed Vole                 NaN   \n",
       "1                           Gapper's Red-Backed Vole                 NaN   \n",
       "2                           Gapper's Red-Backed Vole                 NaN   \n",
       "3                           Gapper's Red-Backed Vole                 NaN   \n",
       "4                              American Bison, Bison                 NaN   \n",
       "5                              American Bison, Bison                 NaN   \n",
       "6                              American Bison, Bison                 NaN   \n",
       "7                              American Bison, Bison                 NaN   \n",
       "8  Aurochs, Aurochs, Domestic Cattle (Feral), Dom...                 NaN   \n",
       "9  Aurochs, Aurochs, Domestic Cattle (Feral), Dom...                 NaN   \n",
       "\n",
       "                             park_name  observations  \n",
       "0                  Bryce National Park           130  \n",
       "1            Yellowstone National Park           270  \n",
       "2  Great Smoky Mountains National Park            98  \n",
       "3               Yosemite National Park           117  \n",
       "4               Yosemite National Park           128  \n",
       "5            Yellowstone National Park           269  \n",
       "6                  Bryce National Park            68  \n",
       "7  Great Smoky Mountains National Park            77  \n",
       "8                  Bryce National Park            99  \n",
       "9               Yosemite National Park           124  "
      ]
     },
     "execution_count": 197,
     "metadata": {},
     "output_type": "execute_result"
    }
   ],
   "source": [
    "species_info = pd.read_csv('species_info.csv', encoding = 'utf-8')\n",
    "observations = pd.read_csv('observations.csv', encoding = 'utf-8')\n",
    "# We combine both datasets together since they have a common column 'scientific_name'\n",
    "full_data = pd.merge(species_info,observations)\n",
    "full_data.head(10)"
   ]
  },
  {
   "cell_type": "markdown",
   "metadata": {},
   "source": [
    "# Problem 1: Conservation status distribution for Species"
   ]
  },
  {
   "cell_type": "code",
   "execution_count": 198,
   "metadata": {},
   "outputs": [
    {
     "data": {
      "text/plain": [
       "conservation_status\n",
       "Endangered               80\n",
       "In Recovery              24\n",
       "Species of Concern      732\n",
       "Stable                24752\n",
       "Threatened               44\n",
       "dtype: int64"
      ]
     },
     "execution_count": 198,
     "metadata": {},
     "output_type": "execute_result"
    }
   ],
   "source": [
    "full_data.fillna('Stable', inplace = True)\n",
    "full_data.groupby('conservation_status').size()"
   ]
  },
  {
   "cell_type": "code",
   "execution_count": 199,
   "metadata": {},
   "outputs": [
    {
     "data": {
      "text/html": [
       "<div>\n",
       "<style scoped>\n",
       "    .dataframe tbody tr th:only-of-type {\n",
       "        vertical-align: middle;\n",
       "    }\n",
       "\n",
       "    .dataframe tbody tr th {\n",
       "        vertical-align: top;\n",
       "    }\n",
       "\n",
       "    .dataframe thead th {\n",
       "        text-align: right;\n",
       "    }\n",
       "</style>\n",
       "<table border=\"1\" class=\"dataframe\">\n",
       "  <thead>\n",
       "    <tr style=\"text-align: right;\">\n",
       "      <th>category</th>\n",
       "      <th>Amphibian</th>\n",
       "      <th>Bird</th>\n",
       "      <th>Fish</th>\n",
       "      <th>Mammal</th>\n",
       "      <th>Nonvascular Plant</th>\n",
       "      <th>Reptile</th>\n",
       "      <th>Vascular Plant</th>\n",
       "    </tr>\n",
       "    <tr>\n",
       "      <th>conservation_status</th>\n",
       "      <th></th>\n",
       "      <th></th>\n",
       "      <th></th>\n",
       "      <th></th>\n",
       "      <th></th>\n",
       "      <th></th>\n",
       "      <th></th>\n",
       "    </tr>\n",
       "  </thead>\n",
       "  <tbody>\n",
       "    <tr>\n",
       "      <th>Endangered</th>\n",
       "      <td>4.0</td>\n",
       "      <td>16.0</td>\n",
       "      <td>12.0</td>\n",
       "      <td>44.0</td>\n",
       "      <td>NaN</td>\n",
       "      <td>NaN</td>\n",
       "      <td>4.0</td>\n",
       "    </tr>\n",
       "    <tr>\n",
       "      <th>In Recovery</th>\n",
       "      <td>NaN</td>\n",
       "      <td>12.0</td>\n",
       "      <td>NaN</td>\n",
       "      <td>12.0</td>\n",
       "      <td>NaN</td>\n",
       "      <td>NaN</td>\n",
       "      <td>NaN</td>\n",
       "    </tr>\n",
       "    <tr>\n",
       "      <th>Species of Concern</th>\n",
       "      <td>16.0</td>\n",
       "      <td>320.0</td>\n",
       "      <td>16.0</td>\n",
       "      <td>168.0</td>\n",
       "      <td>20.0</td>\n",
       "      <td>20.0</td>\n",
       "      <td>172.0</td>\n",
       "    </tr>\n",
       "    <tr>\n",
       "      <th>Threatened</th>\n",
       "      <td>8.0</td>\n",
       "      <td>NaN</td>\n",
       "      <td>20.0</td>\n",
       "      <td>8.0</td>\n",
       "      <td>NaN</td>\n",
       "      <td>NaN</td>\n",
       "      <td>8.0</td>\n",
       "    </tr>\n",
       "  </tbody>\n",
       "</table>\n",
       "</div>"
      ],
      "text/plain": [
       "category             Amphibian   Bird  Fish  Mammal  Nonvascular Plant  \\\n",
       "conservation_status                                                      \n",
       "Endangered                 4.0   16.0  12.0    44.0                NaN   \n",
       "In Recovery                NaN   12.0   NaN    12.0                NaN   \n",
       "Species of Concern        16.0  320.0  16.0   168.0               20.0   \n",
       "Threatened                 8.0    NaN  20.0     8.0                NaN   \n",
       "\n",
       "category             Reptile  Vascular Plant  \n",
       "conservation_status                           \n",
       "Endangered               NaN             4.0  \n",
       "In Recovery              NaN             NaN  \n",
       "Species of Concern      20.0           172.0  \n",
       "Threatened               NaN             8.0  "
      ]
     },
     "execution_count": 199,
     "metadata": {},
     "output_type": "execute_result"
    }
   ],
   "source": [
    "conservation_by_category = full_data[full_data.conservation_status != \"Stable\"]\\\n",
    ".groupby([\"conservation_status\", \"category\"])['scientific_name']\\\n",
    "    .count()\\\n",
    "    .unstack()\n",
    "\n",
    "conservation_by_category"
   ]
  },
  {
   "cell_type": "code",
   "execution_count": 200,
   "metadata": {},
   "outputs": [
    {
     "data": {
      "text/plain": [
       "Text(0, 0.5, 'Number of Species')"
      ]
     },
     "execution_count": 200,
     "metadata": {},
     "output_type": "execute_result"
    },
    {
     "data": {
      "image/png": "[encoded data removed]",
      "text/plain": [
       "<Figure size 720x576 with 1 Axes>"
      ]
     },
     "metadata": {
      "needs_background": "light"
     },
     "output_type": "display_data"
    }
   ],
   "source": [
    "ax = conservation_by_category.plot(kind = 'bar', figsize = (10,8), stacked = True)\n",
    "ax.set_xlabel('Conservation Status')\n",
    "ax.set_ylabel('Number of Species')"
   ]
  },
  {
   "cell_type": "markdown",
   "metadata": {},
   "source": [
    "# Problem 1 Conclusion"
   ]
  },
  {
   "cell_type": "markdown",
   "metadata": {},
   "source": [
    "Vascular Plants, Mammals and Birds are the species' that are of most concern with regards to their conservation status"
   ]
  },
  {
   "cell_type": "markdown",
   "metadata": {},
   "source": [
    "# Problem 2: Is there an association between the different species and their conservation status?"
   ]
  },
  {
   "cell_type": "code",
   "execution_count": 213,
   "metadata": {},
   "outputs": [
    {
     "data": {
      "text/html": [
       "<div>\n",
       "<style scoped>\n",
       "    .dataframe tbody tr th:only-of-type {\n",
       "        vertical-align: middle;\n",
       "    }\n",
       "\n",
       "    .dataframe tbody tr th {\n",
       "        vertical-align: top;\n",
       "    }\n",
       "\n",
       "    .dataframe thead th {\n",
       "        text-align: right;\n",
       "    }\n",
       "</style>\n",
       "<table border=\"1\" class=\"dataframe\">\n",
       "  <thead>\n",
       "    <tr style=\"text-align: right;\">\n",
       "      <th></th>\n",
       "      <th>category</th>\n",
       "      <th>is_not_stable</th>\n",
       "      <th>is_stable</th>\n",
       "      <th>percent_stable</th>\n",
       "    </tr>\n",
       "  </thead>\n",
       "  <tbody>\n",
       "    <tr>\n",
       "      <th>0</th>\n",
       "      <td>Amphibian</td>\n",
       "      <td>7</td>\n",
       "      <td>72</td>\n",
       "      <td>8.860759</td>\n",
       "    </tr>\n",
       "    <tr>\n",
       "      <th>1</th>\n",
       "      <td>Bird</td>\n",
       "      <td>75</td>\n",
       "      <td>413</td>\n",
       "      <td>15.368852</td>\n",
       "    </tr>\n",
       "    <tr>\n",
       "      <th>2</th>\n",
       "      <td>Fish</td>\n",
       "      <td>11</td>\n",
       "      <td>115</td>\n",
       "      <td>8.730159</td>\n",
       "    </tr>\n",
       "    <tr>\n",
       "      <th>3</th>\n",
       "      <td>Mammal</td>\n",
       "      <td>30</td>\n",
       "      <td>146</td>\n",
       "      <td>17.045455</td>\n",
       "    </tr>\n",
       "    <tr>\n",
       "      <th>4</th>\n",
       "      <td>Nonvascular Plant</td>\n",
       "      <td>5</td>\n",
       "      <td>328</td>\n",
       "      <td>1.501502</td>\n",
       "    </tr>\n",
       "    <tr>\n",
       "      <th>5</th>\n",
       "      <td>Reptile</td>\n",
       "      <td>5</td>\n",
       "      <td>73</td>\n",
       "      <td>6.410256</td>\n",
       "    </tr>\n",
       "    <tr>\n",
       "      <th>6</th>\n",
       "      <td>Vascular Plant</td>\n",
       "      <td>46</td>\n",
       "      <td>4216</td>\n",
       "      <td>1.079305</td>\n",
       "    </tr>\n",
       "  </tbody>\n",
       "</table>\n",
       "</div>"
      ],
      "text/plain": [
       "            category  is_not_stable  is_stable  percent_stable\n",
       "0          Amphibian              7         72        8.860759\n",
       "1               Bird             75        413       15.368852\n",
       "2               Fish             11        115        8.730159\n",
       "3             Mammal             30        146       17.045455\n",
       "4  Nonvascular Plant              5        328        1.501502\n",
       "5            Reptile              5         73        6.410256\n",
       "6     Vascular Plant             46       4216        1.079305"
      ]
     },
     "execution_count": 213,
     "metadata": {},
     "output_type": "execute_result"
    }
   ],
   "source": [
    "full_data['is_stable'] = full_data.conservation_status == 'Stable'\n",
    "category_stable_count = full_data.groupby(['category','is_stable']).scientific_name.nunique()\\\n",
    "                    .reset_index()\\\n",
    "                    .pivot(columns = 'is_stable', index = 'category', values = 'scientific_name')\\\n",
    "                    .reset_index()\n",
    "category_stable_count.columns = ['category','is_not_stable','is_stable']\n",
    "category_stable_count['percent_stable'] = category_stable_count.is_not_stable / \\\n",
    "                                        (category_stable_count.is_not_stable + \\\n",
    "                                         category_stable_count.is_stable) * 100\n",
    "category_stable_count\n",
    "# From here, we see that the species in endangerment, relative to their total, are Mammals and Birds\n",
    "# So let's focus on those 2"
   ]
  },
  {
   "cell_type": "code",
   "execution_count": 217,
   "metadata": {},
   "outputs": [
    {
     "name": "stdout",
     "output_type": "stream",
     "text": [
      "0.1617014831654557 0.6875948096661336 [[ 27.8313253 148.1686747]\n",
      " [ 77.1686747 410.8313253]]\n"
     ]
    }
   ],
   "source": [
    "cont1 = [[30,146],[75,413]]\n",
    "chi2, pval, dof, expected = chi2_contingency(cont1)\n",
    "print(chi2,pval,expected)\n",
    "# chi2 value is lower than 4, hence there is no association\n",
    "# p value is much larger than the standard 0.05, thus no association\n",
    "# We can see that the expected values do not differ much from the original, thus no association"
   ]
  },
  {
   "cell_type": "code",
   "execution_count": 219,
   "metadata": {},
   "outputs": [
    {
     "name": "stdout",
     "output_type": "stream",
     "text": [
      "354.42332680820607 4.612268031690143e-79 [[  12.43115789  475.56884211]\n",
      " [ 108.56884211 4153.43115789]]\n"
     ]
    }
   ],
   "source": [
    "# Let's see if there is an association between Bird and Vascular Plant\n",
    "cont2 = [[75,413],[46,4216]]\n",
    "chi2, pval, dof, expected = chi2_contingency(cont2)\n",
    "print(chi2,pval,expected)\n",
    "# chi2 value is much larger than 4, suggesting a strong association\n",
    "# p value is much smaller than 0.05, suggesting a strong association\n",
    "# We can see that the expected values differ much from original, suggesting a strong association"
   ]
  },
  {
   "cell_type": "markdown",
   "metadata": {},
   "source": [
    "# Problem Conclusion 2"
   ]
  },
  {
   "cell_type": "markdown",
   "metadata": {},
   "source": [
    "From this, we can see that certain species' conservation status can be associated with another species. We can think of this in reality as the food chain, where the dwindling of on species can have an effect on another"
   ]
  },
  {
   "cell_type": "markdown",
   "metadata": {},
   "source": [
    "# Problem 3: Animal that is least found and which Parks should we preserve first"
   ]
  },
  {
   "cell_type": "code",
   "execution_count": 202,
   "metadata": {},
   "outputs": [],
   "source": [
    "full_data['conservation_status'].unique()\n",
    "# These is ordinal data whereby we rank the endangerment status of each species\n",
    "species_of_concern = full_data[full_data['conservation_status'] == 'Species of Concern']\n",
    "endangered = full_data[full_data['conservation_status'] == 'Endangered']\n",
    "in_recovery = full_data[full_data['conservation_status'] == 'In Recovery']\n",
    "threatened = full_data[full_data['conservation_status'] == 'Threatened']\n",
    "species_of_concern_observ = species_of_concern.observations.mean()\n",
    "endangered_observ = endangered.observations.mean()\n",
    "in_recovery_observ = in_recovery.observations.mean()\n",
    "threatened_observ = threatened.observations.mean()\n",
    "# After observing the mean of observations, we find this ranking of endangerment\n",
    "# 'Endangered' > 'Threatened' > 'In Recovery' > 'Species of Concern'"
   ]
  },
  {
   "cell_type": "code",
   "execution_count": 203,
   "metadata": {},
   "outputs": [
    {
     "data": {
      "image/png": "[encoded data removed]",
      "text/plain": [
       "<Figure size 720x576 with 1 Axes>"
      ]
     },
     "metadata": {
      "needs_background": "light"
     },
     "output_type": "display_data"
    }
   ],
   "source": [
    "endangered_species = endangered.groupby('common_names').observations.sum().sort_values().reset_index()\n",
    "endangered_species5 = endangered_species[:5]\n",
    "# We gather the top 5 most endangered species, note that this is a Series\n",
    "endangered_species5_observations = [i for i in endangered_species5['observations']]\n",
    "endangered_species5_common_name = [i for i in endangered_species5['common_names']]\n",
    "plt.figure(figsize=(10,8))\n",
    "ax = plt.subplot()\n",
    "ax.set_xticks(range(len(endangered_species5_common_name)))\n",
    "ax.set_xticklabels(endangered_species5_common_name,rotation = 30)\n",
    "sns.barplot(x = 'common_names', y = 'observations', data = endangered_species5)\n",
    "\n",
    "plt.show()\n",
    "# With this, we know that Rana sierrae is the top most endangered species, followed by Noturus baileyi and so on\n",
    "# Now that we know the endangered species, we want to know which National Parks we need to focus on"
   ]
  },
  {
   "cell_type": "code",
   "execution_count": 204,
   "metadata": {},
   "outputs": [
    {
     "data": {
      "text/html": [
       "<div>\n",
       "<style scoped>\n",
       "    .dataframe tbody tr th:only-of-type {\n",
       "        vertical-align: middle;\n",
       "    }\n",
       "\n",
       "    .dataframe tbody tr th {\n",
       "        vertical-align: top;\n",
       "    }\n",
       "\n",
       "    .dataframe thead th {\n",
       "        text-align: right;\n",
       "    }\n",
       "</style>\n",
       "<table border=\"1\" class=\"dataframe\">\n",
       "  <thead>\n",
       "    <tr style=\"text-align: right;\">\n",
       "      <th></th>\n",
       "      <th>category</th>\n",
       "      <th>scientific_name</th>\n",
       "      <th>common_names</th>\n",
       "      <th>conservation_status</th>\n",
       "      <th>park_name</th>\n",
       "      <th>observations</th>\n",
       "      <th>is_stable</th>\n",
       "    </tr>\n",
       "  </thead>\n",
       "  <tbody>\n",
       "    <tr>\n",
       "      <th>21015</th>\n",
       "      <td>Amphibian</td>\n",
       "      <td>Rana sierrae</td>\n",
       "      <td>Sierra Nevada Yellow-Legged Frog</td>\n",
       "      <td>Endangered</td>\n",
       "      <td>Great Smoky Mountains National Park</td>\n",
       "      <td>11</td>\n",
       "      <td>False</td>\n",
       "    </tr>\n",
       "    <tr>\n",
       "      <th>21014</th>\n",
       "      <td>Amphibian</td>\n",
       "      <td>Rana sierrae</td>\n",
       "      <td>Sierra Nevada Yellow-Legged Frog</td>\n",
       "      <td>Endangered</td>\n",
       "      <td>Bryce National Park</td>\n",
       "      <td>31</td>\n",
       "      <td>False</td>\n",
       "    </tr>\n",
       "    <tr>\n",
       "      <th>21012</th>\n",
       "      <td>Amphibian</td>\n",
       "      <td>Rana sierrae</td>\n",
       "      <td>Sierra Nevada Yellow-Legged Frog</td>\n",
       "      <td>Endangered</td>\n",
       "      <td>Yosemite National Park</td>\n",
       "      <td>42</td>\n",
       "      <td>False</td>\n",
       "    </tr>\n",
       "    <tr>\n",
       "      <th>21013</th>\n",
       "      <td>Amphibian</td>\n",
       "      <td>Rana sierrae</td>\n",
       "      <td>Sierra Nevada Yellow-Legged Frog</td>\n",
       "      <td>Endangered</td>\n",
       "      <td>Yellowstone National Park</td>\n",
       "      <td>60</td>\n",
       "      <td>False</td>\n",
       "    </tr>\n",
       "  </tbody>\n",
       "</table>\n",
       "</div>"
      ],
      "text/plain": [
       "        category scientific_name                      common_names  \\\n",
       "21015  Amphibian    Rana sierrae  Sierra Nevada Yellow-Legged Frog   \n",
       "21014  Amphibian    Rana sierrae  Sierra Nevada Yellow-Legged Frog   \n",
       "21012  Amphibian    Rana sierrae  Sierra Nevada Yellow-Legged Frog   \n",
       "21013  Amphibian    Rana sierrae  Sierra Nevada Yellow-Legged Frog   \n",
       "\n",
       "      conservation_status                            park_name  observations  \\\n",
       "21015          Endangered  Great Smoky Mountains National Park            11   \n",
       "21014          Endangered                  Bryce National Park            31   \n",
       "21012          Endangered               Yosemite National Park            42   \n",
       "21013          Endangered            Yellowstone National Park            60   \n",
       "\n",
       "       is_stable  \n",
       "21015      False  \n",
       "21014      False  \n",
       "21012      False  \n",
       "21013      False  "
      ]
     },
     "execution_count": 204,
     "metadata": {},
     "output_type": "execute_result"
    }
   ],
   "source": [
    "yellow_legged_frog = full_data[full_data.common_names == 'Sierra Nevada Yellow-Legged Frog']\n",
    "yellow_legged_frog = yellow_legged_frog.sort_values('observations')\n",
    "yellow_legged_frog"
   ]
  },
  {
   "cell_type": "code",
   "execution_count": 205,
   "metadata": {},
   "outputs": [
    {
     "data": {
      "image/png": "[encoded data removed]",
      "text/plain": [
       "<Figure size 720x576 with 1 Axes>"
      ]
     },
     "metadata": {
      "needs_background": "light"
     },
     "output_type": "display_data"
    },
    {
     "data": {
      "text/plain": [
       "<Figure size 432x288 with 0 Axes>"
      ]
     },
     "metadata": {},
     "output_type": "display_data"
    }
   ],
   "source": [
    "plt.figure(figsize=(10,8))\n",
    "ax = plt.subplot()\n",
    "sns.barplot(x = 'park_name', y = 'observations', data = yellow_legged_frog)\n",
    "ax.set_xticks([0,1,2,3])\n",
    "ax.set_xticklabels(yellow_legged_frog.park_name, rotation = 30)\n",
    "plt.show()\n",
    "plt.clf()"
   ]
  },
  {
   "cell_type": "markdown",
   "metadata": {},
   "source": [
    "# Problem 3 Conclusion"
   ]
  },
  {
   "cell_type": "markdown",
   "metadata": {},
   "source": [
    "We know that the most endangered animal is the Sierra Nevada Yellow-Legged Frog. We have to start preservation actions with Great Smoky Mountains National Park first, followed by Brcye National Park, Yosemite National Park and then Yellowstone National Park"
   ]
  }
 ],
 "metadata": {
  "kernelspec": {
   "display_name": "Python 3",
   "language": "python",
   "name": "python3"
  },
  "language_info": {
   "codemirror_mode": {
    "name": "ipython",
    "version": 3
   },
   "file_extension": ".py",
   "mimetype": "text/x-python",
   "name": "python",
   "nbconvert_exporter": "python",
   "pygments_lexer": "ipython3",
   "version": "3.8.8"
  }
 },
 "nbformat": 4,
 "nbformat_minor": 4
}
